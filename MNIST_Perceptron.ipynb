{
  "nbformat": 4,
  "nbformat_minor": 0,
  "metadata": {
    "colab": {
      "provenance": [],
      "authorship_tag": "ABX9TyMIltArCXbKYPo9h7Ys8QLo",
      "include_colab_link": true
    },
    "kernelspec": {
      "name": "python3",
      "display_name": "Python 3"
    },
    "language_info": {
      "name": "python"
    }
  },
  "cells": [
    {
      "cell_type": "markdown",
      "metadata": {
        "id": "view-in-github",
        "colab_type": "text"
      },
      "source": [
        "<a href=\"https://colab.research.google.com/github/tzekensoh/camp-python/blob/main/MNIST_Perceptron.ipynb\" target=\"_parent\"><img src=\"https://colab.research.google.com/assets/colab-badge.svg\" alt=\"Open In Colab\"/></a>"
      ]
    },
    {
      "cell_type": "code",
      "execution_count": null,
      "metadata": {
        "id": "-WpDD87vCUo_"
      },
      "outputs": [],
      "source": [
        "import numpy as np\n",
        "import matplotlib.pyplot as plt\n",
        "from sklearn.datasets import fetch_openml\n",
        "from sklearn.model_selection import train_test_split\n",
        "\n",
        "# Load MNIST dataset\n",
        "mnist = fetch_openml('mnist_784', version=1)\n",
        "X, y = mnist['data'], mnist['target']\n",
        "\n",
        "# Convert labels to integers\n",
        "y = y.astype(int)\n",
        "\n",
        "# Normalize the data\n",
        "X = X / 255.0\n",
        "\n",
        "# Split the data into training and test sets\n",
        "X_train, X_test, y_train, y_test = train_test_split(X, y, test_size=0.2, random_state=42)\n",
        "\n",
        "# Select a subset of data for binary classification (e.g., digit 0 vs 1)\n",
        "binary_train_filter = np.where((y_train == 0) | (y_train == 1))[0]\n",
        "binary_test_filter = np.where((y_test == 0) | (y_test == 1))[0]\n",
        "\n",
        "X_train_binary = X_train.iloc[binary_train_filter]\n",
        "y_train_binary = y_train.iloc[binary_train_filter]\n",
        "X_test_binary = X_test.iloc[binary_test_filter]\n",
        "y_test_binary = y_test.iloc[binary_test_filter]"
      ]
    },
    {
      "cell_type": "code",
      "source": [
        "# Convert pandas dataframe to numpy arrays\n",
        "X_train_binary = X_train_binary.values\n",
        "X_test_binary = X_test_binary.values\n"
      ],
      "metadata": {
        "id": "YBa-iMNbMmkF"
      },
      "execution_count": null,
      "outputs": []
    },
    {
      "cell_type": "code",
      "source": [
        "# Define the perceptron class\n",
        "class Perceptron:\n",
        "    def __init__(self, input_size, learning_rate=0.01):\n",
        "        self.weights = np.zeros(input_size + 1)\n",
        "        self.learning_rate = learning_rate\n",
        "\n",
        "    def predict(self, inputs):\n",
        "        summation = np.dot(inputs, self.weights[1:]) + self.weights[0]\n",
        "        return 1 if summation > 0 else 0\n",
        "\n",
        "    def train(self, training_inputs, labels, epochs=10):\n",
        "        for _ in range(epochs):\n",
        "            for inputs, label in zip(training_inputs, labels):\n",
        "                prediction = self.predict(inputs)\n",
        "                self.weights[1:] += self.learning_rate * (label - prediction) * inputs\n",
        "                self.weights[0] += self.learning_rate * (label - prediction)"
      ],
      "metadata": {
        "id": "jgpHpWvmKPFT"
      },
      "execution_count": null,
      "outputs": []
    },
    {
      "cell_type": "code",
      "source": [
        "# Initialize the perceptron\n",
        "input_size = X_train_binary.shape[1]\n",
        "perceptron = Perceptron(input_size=input_size, learning_rate=0.01)\n",
        "\n",
        "# Train the perceptron\n",
        "perceptron.train(X_train_binary, y_train_binary, epochs=10)\n",
        "\n",
        "# Evaluate the perceptron\n",
        "correct_predictions = 0\n",
        "for inputs, label in zip(X_test_binary, y_test_binary):\n",
        "    prediction = perceptron.predict(inputs)\n",
        "    if prediction == label:\n",
        "        correct_predictions += 1\n",
        "\n",
        "accuracy = correct_predictions / len(y_test_binary)\n",
        "print(\"Accuracy on test set:\", accuracy)"
      ],
      "metadata": {
        "id": "8b6O_IeaKH_A"
      },
      "execution_count": null,
      "outputs": []
    },
    {
      "cell_type": "code",
      "source": [
        "# Visualize part of the test set\n",
        "for inputs, label in zip(X_test_binary[10:15], y_test_binary[10:15]):\n",
        "    prediction = perceptron.predict(inputs)\n",
        "    train = inputs.reshape(28, 28)\n",
        "    plt.imshow(train, cmap='gray')\n",
        "    plt.show()\n",
        "    print(prediction)\n",
        "\n",
        "# show weights\n",
        "print(perceptron.weights)"
      ],
      "metadata": {
        "id": "MQs9hKslNrA9"
      },
      "execution_count": null,
      "outputs": []
    },
    {
      "cell_type": "code",
      "source": [
        "print(perceptron.weights)"
      ],
      "metadata": {
        "id": "9Mo4szK6RgOJ"
      },
      "execution_count": null,
      "outputs": []
    }
  ]
}